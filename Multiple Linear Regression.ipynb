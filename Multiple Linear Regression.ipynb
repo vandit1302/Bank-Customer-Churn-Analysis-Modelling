{
 "cells": [
  {
   "cell_type": "code",
   "execution_count": 3,
   "metadata": {},
   "outputs": [],
   "source": [
    "import numpy as np\n",
    "import pandas as pd\n",
    "import matplotlib.pyplot as plt"
   ]
  },
  {
   "cell_type": "code",
   "execution_count": 2,
   "metadata": {},
   "outputs": [],
   "source": [
    "dataset=pd.read_csv('winequality-white.csv',sep=';')\n",
    "\n",
    "X=dataset.iloc[:,:-1].values\n",
    "\n",
    "y=dataset.iloc[:,11:12].values"
   ]
  },
  {
   "cell_type": "code",
   "execution_count": 3,
   "metadata": {},
   "outputs": [],
   "source": [
    "#Splitting into training and test sets\n",
    "from sklearn.model_selection import train_test_split\n",
    "X_train, X_test, y_train, y_test = train_test_split(X, y, test_size = 0.2, random_state = 0)\n"
   ]
  },
  {
   "cell_type": "code",
   "execution_count": 4,
   "metadata": {},
   "outputs": [],
   "source": [
    "# Feature Scaling\n",
    "from sklearn.preprocessing import StandardScaler\n",
    "sc_X = StandardScaler()\n",
    "X_train = sc_X.fit_transform(X_train)\n",
    "X_test = sc_X.transform(X_test)\n",
    "sc_y = StandardScaler()\n",
    "y_train = sc_y.fit_transform(y_train)\n",
    "y_test = sc_y.transform(y_test)\n"
   ]
  },
  {
   "cell_type": "code",
   "execution_count": 5,
   "metadata": {},
   "outputs": [],
   "source": [
    "#Appending a column of ones to matrix X\n",
    "ones_train=pd.DataFrame(np.ones((3918,1)))\n",
    "ones_test=pd.DataFrame(np.ones((980,1)))\n",
    "\n",
    "X_train=pd.concat([ones_train,pd.DataFrame(X_train)],ignore_index=True,axis=1).iloc[:].values\n",
    "X_test=pd.concat([ones_test,pd.DataFrame(X_test)],ignore_index=True,axis=1).iloc[:].values\n"
   ]
  },
  {
   "cell_type": "code",
   "execution_count": 6,
   "metadata": {},
   "outputs": [],
   "source": [
    "#Here we have 11 features and one column of ones which will contribute to our constant term in our regression eqn\n",
    "Theta=np.random.rand(12,1)\n"
   ]
  },
  {
   "cell_type": "code",
   "execution_count": 7,
   "metadata": {},
   "outputs": [],
   "source": [
    "#Our cost function is the sum of squared errors\n",
    "\n",
    "def cost(x,theta,Y):\n",
    "    m=x.shape[0]\n",
    "    n=x.shape[1]\n",
    "    cost = (1/(2 * m)) * np.sum(np.square(np.dot(x, theta) - Y))\n",
    "    cost=round(cost,2)\n",
    "    return cost\n",
    "\n",
    "\n",
    "#Using batch gradientDescent\n",
    "\n",
    "def gradientDescent(x,thetao,Y,iterations,alpha):\n",
    "    m=x.shape[0]\n",
    "    n=x.shape[1]\n",
    "    theta=np.zeros((12,1))\n",
    "    costs=[]\n",
    "    theta=thetao-(alpha/m)*np.dot(x.T,(np.dot(x,thetao)-Y))\n",
    "    for i in range(iterations):\n",
    "        theta=theta-(alpha/m)*np.dot(x.T,(np.dot(x,theta)-Y))\n",
    "        #theta = theta - (alpha / m) * (np.dot(X, theta) - y)\n",
    "        costs.append(cost(x,theta,Y))\n",
    "        \n",
    "    return theta,costs\n",
    "\n"
   ]
  },
  {
   "cell_type": "code",
   "execution_count": 11,
   "metadata": {},
   "outputs": [],
   "source": [
    "#Running Gradient descent\n",
    "thetaP,costs=gradientDescent(X_train,Theta,y_train,500,0.01)\n"
   ]
  },
  {
   "cell_type": "code",
   "execution_count": 12,
   "metadata": {},
   "outputs": [
    {
     "data": {
      "image/png": "[encoded data removed]",
      "text/plain": [
       "<Figure size 432x288 with 1 Axes>"
      ]
     },
     "metadata": {
      "needs_background": "light"
     },
     "output_type": "display_data"
    }
   ],
   "source": [
    "#Plotting cost function vs num of iterations for Batch Gradient Descent\n",
    "x=[i for i in range(500)]\n",
    "\n",
    "plt.scatter(x,costs)\n",
    "plt.title('Batch Gradient Descent')\n",
    "plt.xlabel('Number of iterations')\n",
    "plt.ylabel('Cost per iteration')\n",
    "plt.show()"
   ]
  },
  {
   "cell_type": "code",
   "execution_count": 13,
   "metadata": {},
   "outputs": [],
   "source": [
    "#Now we can find the prediction matrices as such\n",
    "pred_train=(np.dot(X_train,thetaP))\n",
    "pred_test=(np.dot(X_test,thetaP))\n"
   ]
  },
  {
   "cell_type": "code",
   "execution_count": 14,
   "metadata": {},
   "outputs": [],
   "source": [
    "def SSE(pred,y):\n",
    "    return np.round(np.sum(np.square(pred-y)),3)"
   ]
  },
  {
   "cell_type": "code",
   "execution_count": 15,
   "metadata": {},
   "outputs": [
    {
     "name": "stdout",
     "output_type": "stream",
     "text": [
      "0.156\n"
     ]
    }
   ],
   "source": [
    "#The above function calculates the sum of squared errors given predictions and ground truths for our training set\n",
    "SSE(pred_train,y_train)"
   ]
  },
  {
   "cell_type": "code",
   "execution_count": 16,
   "metadata": {},
   "outputs": [
    {
     "name": "stdout",
     "output_type": "stream",
     "text": [
      "0.298\n"
     ]
    }
   ],
   "source": [
    "#The SSE function calculates the sum of squared errors given predictions and ground truths for our test set\n",
    "SSE(pred_test,y_test)"
   ]
  },
  {
   "cell_type": "code",
   "execution_count": 17,
   "metadata": {},
   "outputs": [],
   "source": [
    "#We could further reduce the error by applying overfitting & using weight decay which we will talk about \n",
    "#in our presentation"
   ]
  },
  {
   "cell_type": "code",
   "execution_count": null,
   "metadata": {},
   "outputs": [],
   "source": []
  }
 ],
 "metadata": {
  "kernelspec": {
   "display_name": "Python 3",
   "language": "python",
   "name": "python3"
  },
  "language_info": {
   "codemirror_mode": {
    "name": "ipython",
    "version": 3
   },
   "file_extension": ".py",
   "mimetype": "text/x-python",
   "name": "python",
   "nbconvert_exporter": "python",
   "pygments_lexer": "ipython3",
   "version": "3.7.6"
  }
 },
 "nbformat": 4,
 "nbformat_minor": 4
}
