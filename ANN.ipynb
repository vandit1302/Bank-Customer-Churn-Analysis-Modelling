{
  "nbformat": 4,
  "nbformat_minor": 0,
  "metadata": {
    "colab": {
      "name": "Copy of Untitled0.ipynb",
      "provenance": [],
      "collapsed_sections": []
    },
    "kernelspec": {
      "name": "python3",
      "display_name": "Python 3"
    }
  },
  "cells": [
    {
      "cell_type": "code",
      "metadata": {
        "id": "o6TzKKfSlb-k",
        "colab_type": "code",
        "colab": {}
      },
      "source": [
        ""
      ],
      "execution_count": 0,
      "outputs": []
    },
    {
      "cell_type": "markdown",
      "metadata": {
        "id": "DsdM4MtWrfe1",
        "colab_type": "text"
      },
      "source": [
        "#Artificial Intelligence Project \n",
        "\n",
        "##Topic: Applying Gradient Descent to a ANN\n",
        "\n",
        "\n",
        "###Vandit Sheth(18BCE1175)\n",
        "###Raj Sangani(18BCE1197)"
      ]
    },
    {
      "cell_type": "markdown",
      "metadata": {
        "id": "YsKzVliOlnJx",
        "colab_type": "text"
      },
      "source": [
        "So in this dataset we would be dealing with Churn Modeling i.e. we would be writing a Artificial Neural Network\n",
        "to find out reasons as to why and which customers are actually leaving the bank and their dependencies on one another.\n",
        "This is a classification problem 0-1 classification(1 if Leaves 0 if customer stays)\n",
        "We might use Theano or Tensorflow but the thing is that these libraries require us to write most of the Ml code from\n",
        "scratch so instead we make use of Keras which enables us writing powerful Neural Networks with a few lines of code\n",
        "Keras runs on Theano and Tensorflow and you can think it of as a Sklearn for Deep Learning\n",
        "Artificial Neural Network"
      ]
    },
    {
      "cell_type": "code",
      "metadata": {
        "id": "-fNof4kpmqqN",
        "colab_type": "code",
        "colab": {}
      },
      "source": [
        "# Part 1 - Data Preprocessing\n",
        "\n",
        "# Importing the libraries\n",
        "import numpy as np\n",
        "import matplotlib.pyplot as plt\n",
        "import pandas as pd\n",
        "\n",
        "# Importing the dataset save it in Pycharm Projects/Name of Project\n",
        "dataset = pd.read_csv('Churn_Modelling.csv')\n"
      ],
      "execution_count": 0,
      "outputs": []
    },
    {
      "cell_type": "code",
      "metadata": {
        "id": "pY-TEqHZmvq_",
        "colab_type": "code",
        "outputId": "da1ae549-05df-47f1-deb0-f917634cf279",
        "colab": {
          "base_uri": "https://localhost:8080/",
          "height": 151
        }
      },
      "source": [
        "#Looking at the features we can see that row no.,name will have no relation with a customer with leaving the bank\n",
        "#so we drop them from X which contains the features Indexes from 3 to 12\n",
        "X = dataset.iloc[:, 3:13].values\n",
        "#We store the Dependent value/predicted value in y by storing the 13th index in the variable y\n",
        "y = dataset.iloc[:, 13].values\n",
        "#Printing out the values of X --> Which contains the features\n",
        "#                           y --> Which contains the target variable\n",
        "print(X)\n",
        "print(y)\n"
      ],
      "execution_count": 0,
      "outputs": [
        {
          "output_type": "stream",
          "text": [
            "[[619 'France' 'Female' ... 1 1 101348.88]\n",
            " [608 'Spain' 'Female' ... 0 1 112542.58]\n",
            " [502 'France' 'Female' ... 1 0 113931.57]\n",
            " ...\n",
            " [709 'France' 'Female' ... 0 1 42085.58]\n",
            " [772 'Germany' 'Male' ... 1 0 92888.52]\n",
            " [792 'France' 'Female' ... 1 0 38190.78]]\n",
            "[1 0 1 ... 1 1 0]\n"
          ],
          "name": "stdout"
        }
      ]
    },
    {
      "cell_type": "code",
      "metadata": {
        "id": "qkMs9MEZptDm",
        "colab_type": "code",
        "colab": {}
      },
      "source": [
        "from sklearn.preprocessing import LabelEncoder, OneHotEncoder\n",
        "from sklearn.compose import ColumnTransformer\n",
        "\n",
        "# Country column\n",
        "ct = ColumnTransformer([(\"Country\", OneHotEncoder(), [1])], remainder = 'passthrough')\n",
        "X = ct.fit_transform(X)\n",
        "\n",
        "# Male/Female\n",
        "labelencoder_X = LabelEncoder()\n",
        "X[:, 2] = labelencoder_X.fit_transform(X[:, 2])\n",
        "X = X[:, 1:]"
      ],
      "execution_count": 0,
      "outputs": []
    },
    {
      "cell_type": "code",
      "metadata": {
        "id": "FYhAfBv8nM14",
        "colab_type": "code",
        "colab": {}
      },
      "source": [
        "# Splitting the dataset into the Training set and Test set\n",
        "from sklearn.model_selection import train_test_split\n",
        "X_train, X_test, y_train, y_test = train_test_split(X, y, test_size = 0.2, random_state = 0)"
      ],
      "execution_count": 0,
      "outputs": []
    },
    {
      "cell_type": "code",
      "metadata": {
        "id": "yqQbXLxnnPQs",
        "colab_type": "code",
        "colab": {}
      },
      "source": [
        "# Feature Scaling\n",
        "from sklearn.preprocessing import StandardScaler\n",
        "sc = StandardScaler()\n",
        "X_train = sc.fit_transform(X_train)\n",
        "X_test = sc.transform(X_test)"
      ],
      "execution_count": 0,
      "outputs": []
    },
    {
      "cell_type": "markdown",
      "metadata": {
        "id": "uT50CwCKoElK",
        "colab_type": "text"
      },
      "source": [
        " Part 2 - Now let's make the ANN!\n",
        "\n",
        "Listing out the steps involved in training the ANN with Stochastic Gradient Descent<br>\n",
        "1)Randomly initialize the weights to small numbers close to 0(But not 0)<br>\n",
        "2)Input the 1st observation of your dataset in the Input Layer, each Feature in one Input Node<br>\n",
        "3)Forward-Propagation from Left to Right, the neurons are activated in a way that the impact of each neuron's activation\n",
        "is limited by the weights.Propagate the activations until getting the predicted result y.<br>\n",
        "4)Compare the predicted result with the actual result. Measure the generated error.<br>\n",
        "5)Back-Propagation: From Right to Left, Error is back  propagated.Update the weights according to how much they are\n",
        "responsible for the error.The Learning Rate tells us by how much such we update the weights.<br>\n",
        "6)Repeat Steps 1 to 5 and update the weights after each observation(Reinforcement Learning).<br>\n",
        "Or: Repeat Steps 1 to 5 but update the weights only after a batch of observations(Batch Learning)  \n",
        "7)When the whole training set is passed through the ANN.That completes an Epoch. Redo more Epochs\n"
      ]
    },
    {
      "cell_type": "code",
      "metadata": {
        "id": "fMr_egq4obsb",
        "colab_type": "code",
        "colab": {}
      },
      "source": [
        "# Importing the Keras libraries and packages\n",
        "import keras\n",
        "from keras.models import Sequential#For building the Neural Network layer by layer\n",
        "from keras.layers import Dense#To randomly initialize the weights to small numbers close to 0(But not 0)\n",
        "\n",
        "\n",
        "# Initialising the ANN\n",
        "#So there are actually 2 ways of initializing a deep learning model\n",
        "#------1)Defining each layer one by one\n",
        "#------2)Defining a Graph\n",
        "classifier = Sequential()#We did not put any parameter in the Sequential object as we will be defining the Layers manually"
      ],
      "execution_count": 0,
      "outputs": []
    },
    {
      "cell_type": "code",
      "metadata": {
        "id": "DaztntiDojnb",
        "colab_type": "code",
        "outputId": "49c3a7af-fbf4-4fa7-b0b0-74be0a2d832b",
        "colab": {
          "base_uri": "https://localhost:8080/",
          "height": 70
        }
      },
      "source": [
        "# Adding the input layer and the first hidden layer\n",
        "#This remains an unanswered question till date that how many nodes of the hidden layer do we actually need\n",
        "# There is no thumb rule but you can set the number of nodes in Hidden Layers as an Average of the number of Nodes in Input and Output Layer Respectively.\n",
        "#Here avg= (11+1)/2==>6 So set Output Dim=6\n",
        "#Init will initialize the Hidden Layer weights uniformly\n",
        "#Activation Function is Rectifier Activation Function\n",
        "#Input dim tells us the number of nodes in the Input Layer.This is done only once and wont be specified in further layers.\n",
        "classifier.add(Dense(output_dim = 6, init = 'uniform', activation = 'relu', input_dim = 12))\n"
      ],
      "execution_count": 0,
      "outputs": [
        {
          "output_type": "stream",
          "text": [
            "/usr/local/lib/python3.6/dist-packages/ipykernel_launcher.py:8: UserWarning: Update your `Dense` call to the Keras 2 API: `Dense(activation=\"relu\", input_dim=12, units=6, kernel_initializer=\"uniform\")`\n",
            "  \n"
          ],
          "name": "stderr"
        }
      ]
    },
    {
      "cell_type": "code",
      "metadata": {
        "id": "B1oCGWhmokhn",
        "colab_type": "code",
        "outputId": "edcc9782-a84c-487a-bee5-8119f78e397f",
        "colab": {
          "base_uri": "https://localhost:8080/",
          "height": 104
        }
      },
      "source": [
        "# Adding the second hidden layer\n",
        "classifier.add(Dense(output_dim = 6, init = 'uniform', activation = 'relu'))\n",
        "\n",
        "# Adding the output layer\n",
        "classifier.add(Dense(output_dim = 1, init = 'uniform', activation = 'sigmoid'))\n",
        "#Sigmoid activation function is used whenever we need Probabilities of 2 categories or less(Similar to Logistic Regression)\n",
        "#Switch to Softmax when the dependent variable has more than 2 categories\n",
        "\n",
        "# Compiling the ANN\n",
        "classifier.compile(optimizer = 'adam', loss = 'binary_crossentropy', metrics = ['accuracy'])\n"
      ],
      "execution_count": 0,
      "outputs": [
        {
          "output_type": "stream",
          "text": [
            "/usr/local/lib/python3.6/dist-packages/ipykernel_launcher.py:2: UserWarning: Update your `Dense` call to the Keras 2 API: `Dense(activation=\"relu\", units=6, kernel_initializer=\"uniform\")`\n",
            "  \n",
            "/usr/local/lib/python3.6/dist-packages/ipykernel_launcher.py:5: UserWarning: Update your `Dense` call to the Keras 2 API: `Dense(activation=\"sigmoid\", units=1, kernel_initializer=\"uniform\")`\n",
            "  \"\"\"\n"
          ],
          "name": "stderr"
        }
      ]
    },
    {
      "cell_type": "code",
      "metadata": {
        "id": "xGTD9lSsor_0",
        "colab_type": "code",
        "outputId": "d85d6ba9-aa59-4999-97e3-e5acf6424535",
        "colab": {
          "base_uri": "https://localhost:8080/",
          "height": 1000
        }
      },
      "source": [
        "# Fitting the ANN to the Training set\n",
        "classifier.fit(X_train, y_train, batch_size = 10, nb_epoch = 100)\n",
        "\n",
        "# Part 3 - Making the predictions and evaluating the model\n",
        "# Predicting the Test set results\n",
        "y_pred = classifier.predict(X_test)\n",
        "y_pred = (y_pred > 0.5)#if y_pred is larger than 0.5 it returns true(1) else false(2)\n",
        "print(y_pred)\n",
        "# Making the Confusion Matrix\n",
        "from sklearn.metrics import confusion_matrix\n",
        "cm = confusion_matrix(y_test, y_pred)\n",
        "print(cm)\n",
        "accuracy=(1534+161)/2000#Obtained from Confusion Matrix\n",
        "print(accuracy)"
      ],
      "execution_count": 0,
      "outputs": [
        {
          "output_type": "stream",
          "text": [
            "Epoch 1/100\n",
            "1390/8000 [====>.........................] - ETA: 0s - loss: 0.3597 - accuracy: 0.8439"
          ],
          "name": "stdout"
        },
        {
          "output_type": "stream",
          "text": [
            "/usr/local/lib/python3.6/dist-packages/ipykernel_launcher.py:2: UserWarning: The `nb_epoch` argument in `fit` has been renamed `epochs`.\n",
            "  \n"
          ],
          "name": "stderr"
        },
        {
          "output_type": "stream",
          "text": [
            "8000/8000 [==============================] - 1s 106us/step - loss: 0.3640 - accuracy: 0.8468\n",
            "Epoch 2/100\n",
            "8000/8000 [==============================] - 1s 105us/step - loss: 0.3639 - accuracy: 0.8443\n",
            "Epoch 3/100\n",
            "8000/8000 [==============================] - 1s 105us/step - loss: 0.3642 - accuracy: 0.8461\n",
            "Epoch 4/100\n",
            "8000/8000 [==============================] - 1s 107us/step - loss: 0.3636 - accuracy: 0.8469\n",
            "Epoch 5/100\n",
            "8000/8000 [==============================] - 1s 104us/step - loss: 0.3639 - accuracy: 0.8461\n",
            "Epoch 6/100\n",
            "8000/8000 [==============================] - 1s 107us/step - loss: 0.3638 - accuracy: 0.8445\n",
            "Epoch 7/100\n",
            "8000/8000 [==============================] - 1s 106us/step - loss: 0.3643 - accuracy: 0.8457\n",
            "Epoch 8/100\n",
            "8000/8000 [==============================] - 1s 106us/step - loss: 0.3639 - accuracy: 0.8450\n",
            "Epoch 9/100\n",
            "8000/8000 [==============================] - 1s 109us/step - loss: 0.3638 - accuracy: 0.8455\n",
            "Epoch 10/100\n",
            "8000/8000 [==============================] - 1s 106us/step - loss: 0.3644 - accuracy: 0.8462\n",
            "Epoch 11/100\n",
            "8000/8000 [==============================] - 1s 105us/step - loss: 0.3639 - accuracy: 0.8462\n",
            "Epoch 12/100\n",
            "8000/8000 [==============================] - 1s 106us/step - loss: 0.3639 - accuracy: 0.8460\n",
            "Epoch 13/100\n",
            "8000/8000 [==============================] - 1s 105us/step - loss: 0.3648 - accuracy: 0.8469\n",
            "Epoch 14/100\n",
            "8000/8000 [==============================] - 1s 105us/step - loss: 0.3642 - accuracy: 0.8461\n",
            "Epoch 15/100\n",
            "8000/8000 [==============================] - 1s 104us/step - loss: 0.3638 - accuracy: 0.8474\n",
            "Epoch 16/100\n",
            "8000/8000 [==============================] - 1s 105us/step - loss: 0.3637 - accuracy: 0.8478\n",
            "Epoch 17/100\n",
            "8000/8000 [==============================] - 1s 106us/step - loss: 0.3642 - accuracy: 0.8464\n",
            "Epoch 18/100\n",
            "8000/8000 [==============================] - 1s 107us/step - loss: 0.3637 - accuracy: 0.8461\n",
            "Epoch 19/100\n",
            "8000/8000 [==============================] - 1s 107us/step - loss: 0.3640 - accuracy: 0.8449\n",
            "Epoch 20/100\n",
            "8000/8000 [==============================] - 1s 105us/step - loss: 0.3639 - accuracy: 0.8464\n",
            "Epoch 21/100\n",
            "8000/8000 [==============================] - 1s 105us/step - loss: 0.3634 - accuracy: 0.8444\n",
            "Epoch 22/100\n",
            "8000/8000 [==============================] - 1s 104us/step - loss: 0.3643 - accuracy: 0.8461\n",
            "Epoch 23/100\n",
            "8000/8000 [==============================] - 1s 106us/step - loss: 0.3642 - accuracy: 0.8457\n",
            "Epoch 24/100\n",
            "8000/8000 [==============================] - 1s 105us/step - loss: 0.3636 - accuracy: 0.8445\n",
            "Epoch 25/100\n",
            "8000/8000 [==============================] - 1s 107us/step - loss: 0.3644 - accuracy: 0.8455\n",
            "Epoch 26/100\n",
            "8000/8000 [==============================] - 1s 111us/step - loss: 0.3642 - accuracy: 0.8432\n",
            "Epoch 27/100\n",
            "8000/8000 [==============================] - 1s 114us/step - loss: 0.3638 - accuracy: 0.8449\n",
            "Epoch 28/100\n",
            "8000/8000 [==============================] - 1s 113us/step - loss: 0.3642 - accuracy: 0.8457\n",
            "Epoch 29/100\n",
            "8000/8000 [==============================] - 1s 115us/step - loss: 0.3643 - accuracy: 0.8461\n",
            "Epoch 30/100\n",
            "8000/8000 [==============================] - 1s 112us/step - loss: 0.3644 - accuracy: 0.8450\n",
            "Epoch 31/100\n",
            "8000/8000 [==============================] - 1s 114us/step - loss: 0.3636 - accuracy: 0.8466\n",
            "Epoch 32/100\n",
            "8000/8000 [==============================] - 1s 112us/step - loss: 0.3646 - accuracy: 0.8445\n",
            "Epoch 33/100\n",
            "8000/8000 [==============================] - 1s 105us/step - loss: 0.3640 - accuracy: 0.8459\n",
            "Epoch 34/100\n",
            "8000/8000 [==============================] - 1s 104us/step - loss: 0.3637 - accuracy: 0.8469\n",
            "Epoch 35/100\n",
            "8000/8000 [==============================] - 1s 105us/step - loss: 0.3642 - accuracy: 0.8441\n",
            "Epoch 36/100\n",
            "8000/8000 [==============================] - 1s 103us/step - loss: 0.3643 - accuracy: 0.8445\n",
            "Epoch 37/100\n",
            "8000/8000 [==============================] - 1s 104us/step - loss: 0.3638 - accuracy: 0.8446\n",
            "Epoch 38/100\n",
            "8000/8000 [==============================] - 1s 104us/step - loss: 0.3643 - accuracy: 0.8461\n",
            "Epoch 39/100\n",
            "8000/8000 [==============================] - 1s 104us/step - loss: 0.3637 - accuracy: 0.8460\n",
            "Epoch 40/100\n",
            "8000/8000 [==============================] - 1s 105us/step - loss: 0.3633 - accuracy: 0.8465\n",
            "Epoch 41/100\n",
            "8000/8000 [==============================] - 1s 106us/step - loss: 0.3639 - accuracy: 0.8454\n",
            "Epoch 42/100\n",
            "8000/8000 [==============================] - 1s 104us/step - loss: 0.3643 - accuracy: 0.8444\n",
            "Epoch 43/100\n",
            "8000/8000 [==============================] - 1s 106us/step - loss: 0.3642 - accuracy: 0.8441\n",
            "Epoch 44/100\n",
            "8000/8000 [==============================] - 1s 107us/step - loss: 0.3642 - accuracy: 0.8450\n",
            "Epoch 45/100\n",
            "8000/8000 [==============================] - 1s 105us/step - loss: 0.3641 - accuracy: 0.8459\n",
            "Epoch 46/100\n",
            "8000/8000 [==============================] - 1s 106us/step - loss: 0.3635 - accuracy: 0.8450\n",
            "Epoch 47/100\n",
            "8000/8000 [==============================] - 1s 105us/step - loss: 0.3634 - accuracy: 0.8459\n",
            "Epoch 48/100\n",
            "8000/8000 [==============================] - 1s 105us/step - loss: 0.3634 - accuracy: 0.8475\n",
            "Epoch 49/100\n",
            "8000/8000 [==============================] - 1s 103us/step - loss: 0.3644 - accuracy: 0.8438\n",
            "Epoch 50/100\n",
            "8000/8000 [==============================] - 1s 106us/step - loss: 0.3639 - accuracy: 0.8469\n",
            "Epoch 51/100\n",
            "8000/8000 [==============================] - 1s 106us/step - loss: 0.3637 - accuracy: 0.8470\n",
            "Epoch 52/100\n",
            "8000/8000 [==============================] - 1s 106us/step - loss: 0.3637 - accuracy: 0.8472\n",
            "Epoch 53/100\n",
            "8000/8000 [==============================] - 1s 105us/step - loss: 0.3636 - accuracy: 0.8466\n",
            "Epoch 54/100\n",
            "8000/8000 [==============================] - 1s 105us/step - loss: 0.3637 - accuracy: 0.8461\n",
            "Epoch 55/100\n",
            "8000/8000 [==============================] - 1s 105us/step - loss: 0.3636 - accuracy: 0.8460\n",
            "Epoch 56/100\n",
            "8000/8000 [==============================] - 1s 105us/step - loss: 0.3639 - accuracy: 0.8444\n",
            "Epoch 57/100\n",
            "8000/8000 [==============================] - 1s 107us/step - loss: 0.3638 - accuracy: 0.8451\n",
            "Epoch 58/100\n",
            "8000/8000 [==============================] - 1s 103us/step - loss: 0.3637 - accuracy: 0.8450\n",
            "Epoch 59/100\n",
            "8000/8000 [==============================] - 1s 104us/step - loss: 0.3637 - accuracy: 0.8464\n",
            "Epoch 60/100\n",
            "8000/8000 [==============================] - 1s 105us/step - loss: 0.3635 - accuracy: 0.8466\n",
            "Epoch 61/100\n",
            "8000/8000 [==============================] - 1s 104us/step - loss: 0.3637 - accuracy: 0.8466\n",
            "Epoch 62/100\n",
            "8000/8000 [==============================] - 1s 105us/step - loss: 0.3640 - accuracy: 0.8460\n",
            "Epoch 63/100\n",
            "8000/8000 [==============================] - 1s 104us/step - loss: 0.3638 - accuracy: 0.8461\n",
            "Epoch 64/100\n",
            "8000/8000 [==============================] - 1s 104us/step - loss: 0.3640 - accuracy: 0.8435\n",
            "Epoch 65/100\n",
            "8000/8000 [==============================] - 1s 105us/step - loss: 0.3636 - accuracy: 0.8459\n",
            "Epoch 66/100\n",
            "8000/8000 [==============================] - 1s 103us/step - loss: 0.3650 - accuracy: 0.8459\n",
            "Epoch 67/100\n",
            "8000/8000 [==============================] - 1s 105us/step - loss: 0.3632 - accuracy: 0.8459\n",
            "Epoch 68/100\n",
            "8000/8000 [==============================] - 1s 104us/step - loss: 0.3638 - accuracy: 0.8472\n",
            "Epoch 69/100\n",
            "8000/8000 [==============================] - 1s 106us/step - loss: 0.3637 - accuracy: 0.8447\n",
            "Epoch 70/100\n",
            "8000/8000 [==============================] - 1s 107us/step - loss: 0.3632 - accuracy: 0.8456\n",
            "Epoch 71/100\n",
            "8000/8000 [==============================] - 1s 107us/step - loss: 0.3635 - accuracy: 0.8486\n",
            "Epoch 72/100\n",
            "8000/8000 [==============================] - 1s 104us/step - loss: 0.3633 - accuracy: 0.8468\n",
            "Epoch 73/100\n",
            "8000/8000 [==============================] - 1s 105us/step - loss: 0.3641 - accuracy: 0.8450\n",
            "Epoch 74/100\n",
            "8000/8000 [==============================] - 1s 106us/step - loss: 0.3636 - accuracy: 0.8464\n",
            "Epoch 75/100\n",
            "8000/8000 [==============================] - 1s 107us/step - loss: 0.3637 - accuracy: 0.8461\n",
            "Epoch 76/100\n",
            "8000/8000 [==============================] - 1s 108us/step - loss: 0.3634 - accuracy: 0.8457\n",
            "Epoch 77/100\n",
            "8000/8000 [==============================] - 1s 104us/step - loss: 0.3636 - accuracy: 0.8456\n",
            "Epoch 78/100\n",
            "8000/8000 [==============================] - 1s 106us/step - loss: 0.3636 - accuracy: 0.8484\n",
            "Epoch 79/100\n",
            "8000/8000 [==============================] - 1s 105us/step - loss: 0.3635 - accuracy: 0.8453\n",
            "Epoch 80/100\n",
            "8000/8000 [==============================] - 1s 105us/step - loss: 0.3633 - accuracy: 0.8460\n",
            "Epoch 81/100\n",
            "8000/8000 [==============================] - 1s 105us/step - loss: 0.3634 - accuracy: 0.8462\n",
            "Epoch 82/100\n",
            "8000/8000 [==============================] - 1s 104us/step - loss: 0.3633 - accuracy: 0.8462\n",
            "Epoch 83/100\n",
            "8000/8000 [==============================] - 1s 107us/step - loss: 0.3638 - accuracy: 0.8469\n",
            "Epoch 84/100\n",
            "8000/8000 [==============================] - 1s 105us/step - loss: 0.3638 - accuracy: 0.8471\n",
            "Epoch 85/100\n",
            "8000/8000 [==============================] - 1s 107us/step - loss: 0.3635 - accuracy: 0.8470\n",
            "Epoch 86/100\n",
            "8000/8000 [==============================] - 1s 106us/step - loss: 0.3631 - accuracy: 0.8459\n",
            "Epoch 87/100\n",
            "8000/8000 [==============================] - 1s 106us/step - loss: 0.3636 - accuracy: 0.8440\n",
            "Epoch 88/100\n",
            "8000/8000 [==============================] - 1s 107us/step - loss: 0.3630 - accuracy: 0.8459\n",
            "Epoch 89/100\n",
            "8000/8000 [==============================] - 1s 105us/step - loss: 0.3636 - accuracy: 0.8459\n",
            "Epoch 90/100\n",
            "8000/8000 [==============================] - 1s 106us/step - loss: 0.3638 - accuracy: 0.8450\n",
            "Epoch 91/100\n",
            "8000/8000 [==============================] - 1s 105us/step - loss: 0.3632 - accuracy: 0.8454\n",
            "Epoch 92/100\n",
            "8000/8000 [==============================] - 1s 105us/step - loss: 0.3642 - accuracy: 0.8444\n",
            "Epoch 93/100\n",
            "8000/8000 [==============================] - 1s 105us/step - loss: 0.3638 - accuracy: 0.8455\n",
            "Epoch 94/100\n",
            "8000/8000 [==============================] - 1s 103us/step - loss: 0.3637 - accuracy: 0.8455\n",
            "Epoch 95/100\n",
            "8000/8000 [==============================] - 1s 104us/step - loss: 0.3631 - accuracy: 0.8443\n",
            "Epoch 96/100\n",
            "8000/8000 [==============================] - 1s 106us/step - loss: 0.3634 - accuracy: 0.8470\n",
            "Epoch 97/100\n",
            "8000/8000 [==============================] - 1s 105us/step - loss: 0.3641 - accuracy: 0.8439\n",
            "Epoch 98/100\n",
            "8000/8000 [==============================] - 1s 104us/step - loss: 0.3635 - accuracy: 0.8468\n",
            "Epoch 99/100\n",
            "8000/8000 [==============================] - 1s 103us/step - loss: 0.3638 - accuracy: 0.8479\n",
            "Epoch 100/100\n",
            "8000/8000 [==============================] - 1s 104us/step - loss: 0.3635 - accuracy: 0.8470\n",
            "[[False]\n",
            " [False]\n",
            " [False]\n",
            " ...\n",
            " [False]\n",
            " [False]\n",
            " [False]]\n",
            "[[1534   61]\n",
            " [ 244  161]]\n",
            "0.844\n"
          ],
          "name": "stdout"
        }
      ]
    },
    {
      "cell_type": "code",
      "metadata": {
        "id": "YTJ2uOLfqhud",
        "colab_type": "code",
        "colab": {}
      },
      "source": [
        ""
      ],
      "execution_count": 0,
      "outputs": []
    }
  ]
}